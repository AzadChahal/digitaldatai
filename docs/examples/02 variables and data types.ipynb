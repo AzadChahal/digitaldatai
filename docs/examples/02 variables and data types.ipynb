Variables and Data Types
    
Variables

message = "Hello Python World"
print 
